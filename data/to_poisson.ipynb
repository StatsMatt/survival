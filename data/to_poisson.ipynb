{
 "cells": [
  {
   "cell_type": "code",
   "execution_count": 1,
   "metadata": {},
   "outputs": [],
   "source": [
    "import pandas as pd\n",
    "import numpy as np"
   ]
  },
  {
   "cell_type": "code",
   "execution_count": 2,
   "metadata": {},
   "outputs": [],
   "source": [
    "alcohol = pd.read_csv('alcohol_outcomes.csv')"
   ]
  },
  {
   "cell_type": "code",
   "execution_count": 7,
   "metadata": {},
   "outputs": [
    {
     "name": "stdout",
     "output_type": "stream",
     "text": [
      "      death  agein  alcohol     timein    timeout     timebth  drug.use  \\\n",
      "0         1  66.27        2 1966-04-26 1966-06-29  04/02/1900         0   \n",
      "1         1  66.87        2 1967-02-01 1976-08-18  05/04/1900         1   \n",
      "2         1  68.07        2 1968-05-30 1975-03-29  20/05/1900         0   \n",
      "3         1  63.11        2 1963-06-22 1981-07-10  28/05/1900         1   \n",
      "4         0  63.95        2 1964-05-14 1982-11-09  16/06/1900         0   \n",
      "...     ...    ...      ...        ...        ...         ...       ...   \n",
      "1653      0  40.77        1 1973-05-11 1990-06-08  14/08/1932         1   \n",
      "1654      0  40.18        1 1972-11-30 1991-11-13  07/10/1932         1   \n",
      "1655      0  39.93        1 1972-09-29 1991-05-09  02/11/1932         1   \n",
      "1656      0  40.51        1 1973-06-28 1990-07-14  02/01/1933         0   \n",
      "1657      0  40.47        1 1974-04-29 1991-10-12  17/11/1933         0   \n",
      "\n",
      "       exposure  \n",
      "0      0.175222  \n",
      "1      9.544148  \n",
      "2      6.828200  \n",
      "3     18.050650  \n",
      "4     18.488706  \n",
      "...         ...  \n",
      "1653  17.075975  \n",
      "1654  18.951403  \n",
      "1655  18.606434  \n",
      "1656  17.043121  \n",
      "1657  17.453799  \n",
      "\n",
      "[1658 rows x 8 columns]\n"
     ]
    }
   ],
   "source": [
    "alcohol['timein']=pd.to_datetime(alcohol['timein'])\n",
    "alcohol['timeout']=pd.to_datetime(alcohol['timeout'])\n",
    "alcohol['exposure']=alcohol['timeout']-alcohol['timein']\n",
    "alcohol['exposure']=alcohol['exposure'].dt.days / 365.25\n",
    "print(alcohol)"
   ]
  }
 ],
 "metadata": {
  "kernelspec": {
   "display_name": "myenv",
   "language": "python",
   "name": "python3"
  },
  "language_info": {
   "codemirror_mode": {
    "name": "ipython",
    "version": 3
   },
   "file_extension": ".py",
   "mimetype": "text/x-python",
   "name": "python",
   "nbconvert_exporter": "python",
   "pygments_lexer": "ipython3",
   "version": "3.12.3"
  }
 },
 "nbformat": 4,
 "nbformat_minor": 2
}
